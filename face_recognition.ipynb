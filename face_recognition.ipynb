{
  "nbformat": 4,
  "nbformat_minor": 0,
  "metadata": {
    "colab": {
      "private_outputs": true,
      "provenance": [],
      "authorship_tag": "ABX9TyOR+EGRbITQycNcqRnnAZGK",
      "include_colab_link": true
    },
    "kernelspec": {
      "name": "python3",
      "display_name": "Python 3"
    },
    "language_info": {
      "name": "python"
    }
  },
  "cells": [
    {
      "cell_type": "markdown",
      "metadata": {
        "id": "view-in-github",
        "colab_type": "text"
      },
      "source": [
        "<a href=\"https://colab.research.google.com/github/Inderdev07/FACE-DETECTION---Open-CV/blob/main/face_recognition.ipynb\" target=\"_parent\"><img src=\"https://colab.research.google.com/assets/colab-badge.svg\" alt=\"Open In Colab\"/></a>"
      ]
    },
    {
      "cell_type": "code",
      "execution_count": null,
      "metadata": {
        "id": "legs9FyzoAME"
      },
      "outputs": [],
      "source": [
        "import numpy as np\n",
        "from google.colab.patches import cv2_imshow"
      ]
    },
    {
      "cell_type": "code",
      "source": [
        "import cv2\n",
        "from google.colab.patches import cv2_imshow"
      ],
      "metadata": {
        "id": "iMTCGXqyo7LD"
      },
      "execution_count": null,
      "outputs": []
    },
    {
      "cell_type": "code",
      "source": [
        "pic=cv2.imread(\"/content/photo-1526736054478-78a346854f1b.jpeg\")\n",
        "cv2_imshow(pic)"
      ],
      "metadata": {
        "id": "FmRdXpiwobg2"
      },
      "execution_count": null,
      "outputs": []
    },
    {
      "cell_type": "code",
      "source": [
        "canvas=np.ones((200,200,3),dtype=\"uint8\")\n",
        "canvas"
      ],
      "metadata": {
        "id": "FXmnMf0opBuk"
      },
      "execution_count": null,
      "outputs": []
    },
    {
      "cell_type": "code",
      "source": [
        "cv2.line(canvas,(10,10),(190,10),(255,255,255),5)\n",
        "cv2.line(canvas,(10,10),(10,190),(255,255,255),5)\n",
        "cv2.line(canvas,(190,10),(190,190),(255,255,255),5)\n",
        "cv2.line(canvas,(10,190),(190,190),(255,255,255),5)\n",
        "\n",
        "cv2_imshow(canvas)"
      ],
      "metadata": {
        "id": "29hViQWxpRZ8"
      },
      "execution_count": null,
      "outputs": []
    },
    {
      "cell_type": "code",
      "source": [
        "#circle(img,center,radius,color,thickness,linetype)\n",
        "cv2.circle(canvas,(100,100),80,(0,255,255),5)\n",
        "cv2_imshow(canvas)"
      ],
      "metadata": {
        "id": "nFJrF6fupTrS"
      },
      "execution_count": null,
      "outputs": []
    },
    {
      "cell_type": "code",
      "source": [
        "#rectangle(img, pt1, pt2, color[, thickness[, lineType[, shift]]]) \n",
        "cv2.rectangle(canvas,(40,50),(160,150),(255,255,0),5)\n",
        "cv2_imshow(canvas)\n",
        "\n"
      ],
      "metadata": {
        "id": "HE7kXzUqpWCT"
      },
      "execution_count": null,
      "outputs": []
    },
    {
      "cell_type": "code",
      "source": [
        "canvas=np.ones((200,400,3),dtype=\"uint8\")*255\n",
        "\n",
        "black=(0,0,0)  #b,g,r(0-255)\n",
        "red=(0,0,255)\n",
        "green=(0,255,0)\n",
        "blue=(255,0,0)\n",
        "mix=(150,150,150)\n",
        "cv2.line(canvas,(100,0),(0,70),black,3)\n",
        "cv2.line(canvas,(100,0),(200,70),black,3)\n",
        "cv2.line(canvas,(0,70),(200,70),black,3)\n",
        "cv2.line(canvas,(0,70),(0,200),green,3)\n",
        "cv2.line(canvas,(200,70),(200,200),green,3)\n",
        "cv2.line(canvas,(0,200),(200,200),blue,3)\n",
        "cv2.line(canvas,(80,100),(120,100),blue,3)\n",
        "cv2.line(canvas,(80,100),(80,200),mix,3)\n",
        "cv2.line(canvas,(120,100),(120,200),mix,3)\n",
        "cv2.line(canvas,(100,0),(300,20),black,3)\n",
        "cv2.line(canvas,(200,70),(400,90),black,3)\n",
        "cv2.line(canvas,(300,20),(400,90),black,3)\n",
        "cv2.line(canvas,(350,85),(350,180),green,3)\n",
        "cv2.line(canvas,(200,200),(350,180),green,3)\n",
        "cv2.circle(canvas,(100,40),20,red,3)\n",
        "cv2_imshow(canvas)"
      ],
      "metadata": {
        "id": "rWsVzEfGpYUC"
      },
      "execution_count": null,
      "outputs": []
    },
    {
      "cell_type": "code",
      "source": [
        "img=cv2.imread(\"/content/FACE .JPG.jpeg\")\n",
        "cv2_imshow(img)"
      ],
      "metadata": {
        "id": "utgr3EympaRT"
      },
      "execution_count": null,
      "outputs": []
    },
    {
      "cell_type": "code",
      "source": [
        "cv2_imshow(cv2.cvtColor(img,cv2.COLOR_BGR2GRAY))"
      ],
      "metadata": {
        "id": "aRc9qu6tpxZj"
      },
      "execution_count": null,
      "outputs": []
    },
    {
      "cell_type": "code",
      "source": [
        "#Canny(image, threshold1, threshold2[, edges[, apertureSize[, L2gradient]]])\n",
        "\n",
        "pic=cv2_imshow(cv2.Canny(img,50,100))\n",
        "pic"
      ],
      "metadata": {
        "id": "bbmLLR9UqBsF"
      },
      "execution_count": null,
      "outputs": []
    },
    {
      "cell_type": "code",
      "source": [
        "from google.colab.patches import cv2_imshow\n",
        "import cv2\n",
        "import numpy as np\n",
        "import os \n",
        "\n",
        "testfile  = '/content/Priyanka-chopra-FACE.jpg'\n",
        "testfile1 ='/content/photo-1526736054478-78a346854f1b.jpeg'\n",
        "\n",
        "\n",
        "img = cv2.imread(testfile)\n",
        "gray = cv2.cvtColor(img, cv2.COLOR_BGR2GRAY)\n",
        "\n",
        "# cv2_imshow(img)\n",
        "\n",
        "recognizer = cv2.face.LBPHFaceRecognizer_create()\n",
        "recognizer.read('trainer.yml')\n",
        "cascadePath = \"haarcascade_frontalface_default.xml\"\n",
        "faceCascade = cv2.CascadeClassifier(cv2.data.haarcascades +  cascadePath);\n",
        "\n",
        "font = cv2.FONT_HERSHEY_SIMPLEX\n",
        "\n",
        "id = 0\n",
        "names = ['None', 'Ruth', 'Kavita','Priyanka']\n",
        "# predict the user face in test image \n",
        "gray = cv2.cvtColor(img,cv2.COLOR_BGR2GRAY)\n",
        "faces = faceCascade.detectMultiScale( \n",
        "        gray,\n",
        "        scaleFactor = 1.2,\n",
        "        minNeighbors = 5\n",
        "       \n",
        "       )\n",
        "for(x,y,w,h) in faces:\n",
        "\n",
        "        cv2.rectangle(img, (x,y), (x+w,y+h), (0,255,0), 2)\n",
        "\n",
        "        id, confidence = recognizer.predict(gray[y:y+h,x:x+w])\n",
        "\n",
        "        # Check if confidence is less them 100 ==> \"0\" is perfect match \n",
        "        if (confidence < 100):\n",
        "            id = names[id]\n",
        "            confidence = \"  {0}%\".format(round(100 - confidence))\n",
        "        else:\n",
        "            id = \"unknown\"\n",
        "            confidence = \"  {0}%\".format(round(100 - confidence))\n",
        "        \n",
        "        cv2.putText(img, str(id), (x+5,y-5), font, 1, (255,255,255), 2)\n",
        "        cv2.putText(img, str(confidence), (x+5,y+h-5), font, 1, (255,255,0), 1)\n",
        "cv2_imshow(img)"
      ],
      "metadata": {
        "id": "cpEFLB6DqF0i"
      },
      "execution_count": null,
      "outputs": []
    },
    {
      "cell_type": "code",
      "source": [
        "def take_photo(filename='photo.jpg', quality=0.8):\n",
        "  js = Javascript('''\n",
        "    async function takePhoto(quality) {\n",
        "      const div = document.createElement('div');\n",
        "      const capture = document.createElement('button');\n",
        "      capture.textContent = 'Capture';\n",
        "      div.appendChild(capture);\n",
        "\n",
        "      const video = document.createElement('video');\n",
        "      video.style.display = 'block';\n",
        "      const stream = await navigator.mediaDevices.getUserMedia({video: true});\n",
        "\n",
        "      document.body.appendChild(div);\n",
        "      div.appendChild(video);\n",
        "      video.srcObject = stream;\n",
        "      await video.play();\n",
        "      google.colab.output.setIframeHeight(document.documentElement.scrollHeight, true);\n",
        "\n",
        "      // Wait for Capture to be clicked.\n",
        "      await new Promise((resolve) => capture.onclick = resolve);\n",
        "\n",
        "      const canvas = document.createElement('canvas');\n",
        "      canvas.width = video.videoWidth;\n",
        "      canvas.height = video.videoHeight;\n",
        "      canvas.getContext('2d').drawImage(video, 0, 0);\n",
        "      stream.getVideoTracks()[0].stop();\n",
        "      div.remove();\n",
        "      return canvas.toDataURL('/content/Priyanka-chopra-FACE.jpg', quality);\n",
        "    }\n",
        "    ''')\n",
        "  display(js)\n",
        "  data = eval_js('takePhoto({})'.format(quality))\n",
        "  binary = b64decode(data.split(',')[1])\n",
        "  with open(filename, 'wb') as f:\n",
        "    f.write(binary)\n",
        "  return filename"
      ],
      "metadata": {
        "id": "Ij35uk7AqJBi"
      },
      "execution_count": null,
      "outputs": []
    },
    {
      "cell_type": "code",
      "source": [],
      "metadata": {
        "id": "ZNJjUBpdsBIW"
      },
      "execution_count": null,
      "outputs": []
    }
  ]
}