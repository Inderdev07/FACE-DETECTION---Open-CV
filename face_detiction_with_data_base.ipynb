{
  "nbformat": 4,
  "nbformat_minor": 0,
  "metadata": {
    "colab": {
      "private_outputs": true,
      "provenance": [],
      "authorship_tag": "ABX9TyMeugGmht+jvtufj5+tXy+w",
      "include_colab_link": true
    },
    "kernelspec": {
      "name": "python3",
      "display_name": "Python 3"
    },
    "language_info": {
      "name": "python"
    }
  },
  "cells": [
    {
      "cell_type": "markdown",
      "metadata": {
        "id": "view-in-github",
        "colab_type": "text"
      },
      "source": [
        "<a href=\"https://colab.research.google.com/github/Inderdev07/FACE-DETECTION---Open-CV/blob/main/face_detiction_with_data_base.ipynb\" target=\"_parent\"><img src=\"https://colab.research.google.com/assets/colab-badge.svg\" alt=\"Open In Colab\"/></a>"
      ]
    },
    {
      "cell_type": "markdown",
      "metadata": {
        "id": "9lmGSJCwPjga"
      },
      "source": [
        "# IMAGE READ/SHOW/WRITE"
      ]
    },
    {
      "cell_type": "markdown",
      "source": [],
      "metadata": {
        "id": "eeAkqeNk3ZUj"
      }
    },
    {
      "cell_type": "code",
      "source": [
        "import cv2\n",
        "from google.colab.patches import cv2_imshow"
      ],
      "metadata": {
        "id": "qJJX7n5l3rkA"
      },
      "execution_count": null,
      "outputs": []
    },
    {
      "cell_type": "code",
      "source": [
        "import cv2\n",
        "print(cv2.__version__)"
      ],
      "metadata": {
        "id": "3L1KMB4b6Cso"
      },
      "execution_count": null,
      "outputs": []
    },
    {
      "cell_type": "code",
      "source": [
        "import numpy as np\n",
        "from google.colab.patches import cv2_imshow\n",
        "from PIL import Image"
      ],
      "metadata": {
        "id": "swduiVRl6HbW"
      },
      "execution_count": null,
      "outputs": []
    },
    {
      "cell_type": "code",
      "source": [
        "import numpy as np\n",
        "from google.colab.patches import cv2_imshow"
      ],
      "metadata": {
        "id": "-2nVrW4_9tBx"
      },
      "execution_count": null,
      "outputs": []
    },
    {
      "cell_type": "code",
      "source": [
        "img=cv2.imread(\"/content/FACE .JPG.jpeg\")\n",
        "cv2_imshow(img)"
      ],
      "metadata": {
        "id": "OwRd1qDk9tE_"
      },
      "execution_count": null,
      "outputs": []
    },
    {
      "cell_type": "code",
      "source": [
        "cv2.imwrite(\"pic.jpg\",cv2.Canny(img,200,300))"
      ],
      "metadata": {
        "id": "sTVJ-iI99tH3"
      },
      "execution_count": null,
      "outputs": []
    },
    {
      "cell_type": "code",
      "source": [
        "cv2_imshow(cv2.imread(\"pic.jpg\"))"
      ],
      "metadata": {
        "id": "ZOUb5JmRgayK"
      },
      "execution_count": null,
      "outputs": []
    },
    {
      "cell_type": "code",
      "source": [
        "import cv2\n",
        "from google.colab.patches import cv2_imshow\n",
        "#putText(img, text, org, fontFace, fontScale, color[, thickness[, lineType[, bottomLeftOrigin]]])\n",
        "img=cv2.imread(\"/content/FACE .JPG.jpeg\")\n",
        "cv2.putText(img,\"INDRO\",(100,600),cv2.FONT_HERSHEY_SCRIPT_COMPLEX,2,(255,255,255),5)\n",
        "cv2_imshow(img)"
      ],
      "metadata": {
        "id": "jw1Ubw4Zga1D"
      },
      "execution_count": null,
      "outputs": []
    },
    {
      "cell_type": "markdown",
      "metadata": {
        "id": "fgv6Wi1sWZSA"
      },
      "source": [
        "# EDGE DETECTION"
      ]
    },
    {
      "cell_type": "code",
      "execution_count": null,
      "metadata": {
        "id": "hdrtMCWIWXhJ"
      },
      "outputs": [],
      "source": [
        "import cv2\n",
        "from google.colab.patches import cv2_imshow\n",
        "cv2_imshow(cv2.imread(\"/content/WhatsApp Image 2023-05-01 at 3.55.14 PM.jpeg\"))"
      ]
    },
    {
      "cell_type": "code",
      "source": [
        "pic1=\"/content/suhana.11.jpeg\"\n",
        "pic2=\"/content/inder.1.jpg\"\n",
        "pic3=\"/content/harshal.10.jpeg\"\n",
        "pic4=\"/content/VIKAS.2.jpg\"\n",
        "img=cv2.imread(pic1)\n",
        "face_detection=cv2.CascadeClassifier(cv2.data.haarcascades + 'haarcascade_frontalface_default.xml')\n",
        "# convert the image into gray scale\n",
        "gray_pic=cv2.cvtColor(img,cv2.COLOR_BGR2GRAY)\n",
        "# cv2_imshow(gray_pic)\n",
        "#face detection\n",
        "faces=face_detection.detectMultiScale(gray_pic,scaleFactor=1.3,minNeighbors=7)\n",
        "#print(faces)\n",
        "for (x,y,w,h) in faces:\n",
        "  image=cv2.rectangle(img,(x,y),(x+w,y+h),(0,255,0),3)\n",
        "cv2_imshow(image)"
      ],
      "metadata": {
        "id": "ITTgeOvJ9n2Y"
      },
      "execution_count": null,
      "outputs": []
    },
    {
      "cell_type": "code",
      "source": [
        "import cv2\n",
        "import numpy as np\n",
        "from PIL import Image\n",
        "import os"
      ],
      "metadata": {
        "id": "fdObAbLJhfBs"
      },
      "execution_count": null,
      "outputs": []
    },
    {
      "cell_type": "code",
      "source": [
        "path='/content/face data base'\n",
        "recognizer=cv2.face.LBPHFaceRecognizer_create()\n",
        "detector=cv2.CascadeClassifier(cv2.data.haarcascades + \"haarcascade_frontalface_default.xml\")"
      ],
      "metadata": {
        "id": "u2yNAAA0htHg"
      },
      "execution_count": null,
      "outputs": []
    },
    {
      "cell_type": "code",
      "source": [
        "def getImagesAndLabels(path):\n",
        "\n",
        "  imagePaths=[os.path.join(path,f) for f in os.listdir(path)]\n",
        "  faceSamples=[]\n",
        "  ids=[]\n",
        "\n",
        "  for imagePath in imagePaths:\n",
        "    try:\n",
        "      PIL_img=Image.open(imagePath).convert('L')  #convert it to grayscale\n",
        "      img_numpy=np.array(PIL_img,'uint8')\n",
        "\n",
        "      id=int(os.path.split(imagePath)[-1].split(\".\")[1])\n",
        "      faces=detector.detectMultiScale(img_numpy,minNeighbors=5)\n",
        "\n",
        "      for (x,y,w,h) in faces:\n",
        "        faceSamples.append(img_numpy[y:y+h,x:x+w])\n",
        "        ids.append(id)\n",
        "    except:\n",
        "      pass\n",
        "  return faceSamples,ids"
      ],
      "metadata": {
        "id": "VuB-5aRnjP-R"
      },
      "execution_count": null,
      "outputs": []
    },
    {
      "cell_type": "code",
      "source": [
        "print(\"\\n [INFO] Training faces. It will take few seconds. Wait...\")\n",
        "faces,ids=getImagesAndLabels(path)\n",
        "\n",
        "print(len(faces),len(ids))\n",
        "print(ids)\n",
        "recognizer.train(faces,np.array(ids))\n",
        "\n",
        "#save the model into image.yml\n",
        "recognizer.write(\"/content/face data base/indro.yml\")\n",
        "\n",
        "\n",
        "#print the number of faces trained and end program\n",
        "print(\"\\n [INFO] {0} faces trained.Exiting Program\",format(len(np.unique(ids))))\n",
        "print(np.unique(ids))"
      ],
      "metadata": {
        "id": "KgWQ74wQjTNA"
      },
      "execution_count": null,
      "outputs": []
    },
    {
      "cell_type": "code",
      "source": [
        "import cv2\n",
        "import numpy as np\n",
        "import os \n",
        "\n",
        "recognizer = cv2.face.LBPHFaceRecognizer_create()\n",
        "recognizer.read('/content/face data base/indro.yml')\n",
        "cascadePath = \"haarcascade_frontalface_default.xml\"\n",
        "faceCascade = cv2.CascadeClassifier(cv2.data.haarcascades +  cascadePath);\n",
        "\n",
        "font = cv2.FONT_HERSHEY_SIMPLEX\n",
        "\n",
        "id = 0\n",
        "names = [\" \", \"HARSHAL\",'INDER','SUHANA','VIKAS']"
      ],
      "metadata": {
        "id": "BXxf9PaJnoqE"
      },
      "execution_count": null,
      "outputs": []
    },
    {
      "cell_type": "code",
      "source": [
        "from google.colab.patches import cv2_imshow\n",
        "img=cv2.imread(\"/content/suhana.11.jpeg\")\n",
        "# cv2_imshow(img)\n",
        "# predict the user face in test image \n",
        "gray = cv2.cvtColor(img,cv2.COLOR_BGR2GRAY)\n",
        "faces = faceCascade.detectMultiScale( \n",
        "        gray,\n",
        "        scaleFactor = 1.2,\n",
        "        minNeighbors = 5\n",
        "       \n",
        "       )\n",
        "for(x,y,w,h) in faces:\n",
        "\n",
        "        cv2.rectangle(img, (x,y), (x+w,y+h), (0,255,0), 2)\n",
        "\n",
        "        id, confidence = recognizer.predict(gray[y:y+h,x:x+w])\n",
        "\n",
        "        # Check if confidence is less them 100 ==> \"0\" is perfect match \n",
        "        if (confidence < 100):\n",
        "            id = names[id]\n",
        "            confidence = \"  {0}%\".format(round(100 - confidence))\n",
        "        else:\n",
        "            id = \"unknown\"\n",
        "            confidence = \"  {0}%\".format(round(100 - confidence))\n",
        "        \n",
        "        cv2.putText(img, str(id), (x+5,y-5), font, 1, (255,255,255), 2)\n",
        "        cv2.putText(img, str(confidence), (x+5,y+h-5), font, 1, (255,255,0), 1)\n",
        "cv2_imshow(img)"
      ],
      "metadata": {
        "id": "SXRK3AhSjV7Q"
      },
      "execution_count": null,
      "outputs": []
    },
    {
      "cell_type": "code",
      "source": [
        "import cv2\n",
        "import numpy as np\n",
        "import os \n",
        "\n",
        "recognizer = cv2.face.LBPHFaceRecognizer_create()\n",
        "recognizer.read('/content/indro.yml')\n",
        "cascadePath = \"haarcascade_frontalface_default.xml\"\n",
        "faceCascade = cv2.CascadeClassifier(cv2.data.haarcascades +  cascadePath);\n",
        "\n",
        "font = cv2.FONT_HERSHEY_SIMPLEX\n",
        "\n",
        "id = 0\n",
        "names = [\" \", \"HARSHAL\",'INDER','SUHANA','VIKAS']"
      ],
      "metadata": {
        "id": "UiSGp39zjWV5"
      },
      "execution_count": null,
      "outputs": []
    },
    {
      "cell_type": "code",
      "source": [
        "from IPython.display import display, Javascript\n",
        "from google.colab.output import eval_js\n",
        "from base64 import b64decode\n",
        "\n",
        "def take_photo(filename='photo6.jpg', quality=0.8):\n",
        "  js = Javascript('''\n",
        "    async function takePhoto(quality) {\n",
        "      const div = document.createElement('div');\n",
        "      const capture = document.createElement('button');\n",
        "      capture.textContent = 'Capture';\n",
        "      div.appendChild(capture);\n",
        "\n",
        "      const video = document.createElement('video');\n",
        "      video.style.display = 'block';\n",
        "      const stream = await navigator.mediaDevices.getUserMedia({video: true});\n",
        "\n",
        "      document.body.appendChild(div);\n",
        "      div.appendChild(video);\n",
        "      video.srcObject = stream;\n",
        "      await video.play();\n",
        "\n",
        "      // Resize the output to fit the video element.\n",
        "      google.colab.output.setIframeHeight(document.documentElement.scrollHeight, true);\n",
        "\n",
        "      // Wait for Capture to be clicked.\n",
        "      await new Promise((resolve) => capture.onclick = resolve);\n",
        "\n",
        "      const canvas = document.createElement('canvas');\n",
        "      canvas.width = video.videoWidth;\n",
        "      canvas.height = video.videoHeight;\n",
        "      canvas.getContext('2d').drawImage(video, 0, 0);\n",
        "      stream.getVideoTracks()[0].stop();\n",
        "      div.remove();\n",
        "      return canvas.toDataURL('image/jpeg', quality);\n",
        "    }\n",
        "    ''')\n",
        "  display(js)\n",
        "  data = eval_js('takePhoto({})'.format(quality))\n",
        "  binary = b64decode(data.split(',')[1])\n",
        "  with open(filename, 'wb') as f:\n",
        "    f.write(binary)\n",
        "  return filename"
      ],
      "metadata": {
        "id": "eF6GDAscjWZH"
      },
      "execution_count": null,
      "outputs": []
    },
    {
      "cell_type": "code",
      "source": [
        "from IPython.display import Image\n",
        "try:\n",
        "  filename = take_photo()\n",
        "  print('Saved to {}'.format(filename))\n",
        "  \n",
        "  # Show the image which was just taken.\n",
        "  display(Image(filename))\n",
        "except Exception as err:\n",
        "  # Errors will be thrown if the user does not have a webcam or if they do not\n",
        "  # grant the page permission to access it.\n",
        "  print(str(err))"
      ],
      "metadata": {
        "id": "t5Hq6fA1jWbq"
      },
      "execution_count": null,
      "outputs": []
    },
    {
      "cell_type": "code",
      "source": [
        "cv2_imshow(cv2.imread('photo6.jpg'))"
      ],
      "metadata": {
        "id": "pFJkSWfSBHc2"
      },
      "execution_count": null,
      "outputs": []
    },
    {
      "cell_type": "code",
      "source": [
        "# take a test image  and display\n",
        "from google.colab.patches import cv2_imshow\n",
        "import cv2\n",
        "import numpy as np\n",
        "import os \n",
        "\n",
        "testfile  = '/content/photo6.jpg'\n",
        "\n",
        "img = cv2.imread(testfile)\n",
        "gray = cv2.cvtColor(img, cv2.COLOR_BGR2GRAY)\n",
        "\n",
        "# cv2_imshow(img)\n",
        "\n",
        "recognizer = cv2.face.LBPHFaceRecognizer_create()\n",
        "recognizer.read('/content/indro.yml')\n",
        "cascadePath = \"haarcascade_frontalface_default.xml\"\n",
        "faceCascade = cv2.CascadeClassifier(cv2.data.haarcascades +  cascadePath);\n",
        "\n",
        "font = cv2.FONT_HERSHEY_SIMPLEX\n",
        "\n",
        "id = 0\n",
        "names = ['unknown', 'Vikas', 'Inder','Muskan','Vishal']\n",
        "# predict the user face in test image \n",
        "gray = cv2.cvtColor(img,cv2.COLOR_BGR2GRAY)\n",
        "faces = faceCascade.detectMultiScale( \n",
        "        gray,\n",
        "        scaleFactor = 1.2,\n",
        "        minNeighbors = 10\n",
        "       \n",
        "       )\n",
        "for(x,y,w,h) in faces:\n",
        "\n",
        "        cv2.rectangle(img, (x,y), (x+w,y+h), (0,255,0), 2)\n",
        "\n",
        "        id, confidence = recognizer.predict(gray[y:y+h,x:x+w])\n",
        "\n",
        "        # Check if confidence is less them 100 ==> \"0\" is perfect match \n",
        "        if (confidence < 100):\n",
        "            id = names[id]\n",
        "            confidence = \"  {0}%\".format(round(100 - confidence))\n",
        "        else:\n",
        "            id = \"unknown\"\n",
        "            confidence = \"  {0}%\".format(round(100 - confidence))\n",
        "        \n",
        "        cv2.putText(img, str(id), (x+5,y-5), font, 1, (255,255,255), 2)\n",
        "        cv2.putText(img, str(confidence), (x+5,y+h-5), font, 1, (255,255,0), 1)\n",
        "cv2_imshow(img)"
      ],
      "metadata": {
        "id": "-SgfMM4ZBPjh"
      },
      "execution_count": null,
      "outputs": []
    },
    {
      "cell_type": "code",
      "source": [],
      "metadata": {
        "id": "rka8t51jBZbE"
      },
      "execution_count": null,
      "outputs": []
    }
  ]
}